{
 "cells": [
  {
   "cell_type": "markdown",
   "id": "8f3239ac-fd75-4466-ae61-ac401ce3ae22",
   "metadata": {},
   "source": [
    "**Create Markers**"
   ]
  },
  {
   "cell_type": "code",
   "execution_count": 1,
   "id": "08b72c65-49c9-465a-ba4e-f288c3591408",
   "metadata": {},
   "outputs": [
    {
     "data": {
      "text/plain": [
       "-1"
      ]
     },
     "execution_count": 1,
     "metadata": {},
     "output_type": "execute_result"
    }
   ],
   "source": [
    "import cv2\n",
    "from cv2 import aruco\n",
    "import numpy as np\n",
    "\n",
    "markerImage=np.zeros((600, 600), dtype=np.uint8)\n",
    "dictionary =aruco.getPredefinedDictionary(aruco.DICT_6X6_250)\n",
    "aruco.generateImageMarker(dictionary, 23, 600, markerImage, 1)\n",
    "cv2.imshow(\"marker23\", markerImage)\n",
    "cv2.waitKey(0)"
   ]
  },
  {
   "cell_type": "code",
   "execution_count": 2,
   "id": "e9e6dad8-dc87-4557-a54e-66a6bf3e6afc",
   "metadata": {},
   "outputs": [
    {
     "data": {
      "text/plain": [
       "True"
      ]
     },
     "execution_count": 2,
     "metadata": {},
     "output_type": "execute_result"
    }
   ],
   "source": [
    "cv2.imwrite('test.jpg',markerImage)"
   ]
  },
  {
   "cell_type": "markdown",
   "id": "0bf50bad-d849-40fd-b319-f9530703ed7f",
   "metadata": {},
   "source": [
    "**Detect Markers**"
   ]
  },
  {
   "cell_type": "code",
   "execution_count": 1,
   "id": "364ec5c1-014e-456c-abab-3cf6d8cb9573",
   "metadata": {},
   "outputs": [],
   "source": [
    "def aruco_display(corners, ids, rejected, image):\n",
    "\tif len(corners) > 0:\n",
    "\t\t# flatten the ArUco IDs list\n",
    "\t\tids = ids.flatten()\n",
    "\t\t# loop over the detected ArUCo corners\n",
    "\t\tfor (markerCorner, markerID) in zip(corners, ids):\n",
    "\t\t\t# extract the marker corners (which are always returned in\n",
    "\t\t\t# top-left, top-right, bottom-right, and bottom-left order)\n",
    "\t\t\tcorners = markerCorner.reshape((4, 2))\n",
    "\t\t\t(topLeft, topRight, bottomRight, bottomLeft) = corners\n",
    "\t\t\t# convert each of the (x, y)-coordinate pairs to integers\n",
    "\t\t\ttopRight = (int(topRight[0]), int(topRight[1]))\n",
    "\t\t\tbottomRight = (int(bottomRight[0]), int(bottomRight[1]))\n",
    "\t\t\tbottomLeft = (int(bottomLeft[0]), int(bottomLeft[1]))\n",
    "\t\t\ttopLeft = (int(topLeft[0]), int(topLeft[1]))\n",
    "\n",
    "\t\t\tcv2.line(image, topLeft, topRight, (0, 255, 0), 2)\n",
    "\t\t\tcv2.line(image, topRight, bottomRight, (0, 255, 0), 2)\n",
    "\t\t\tcv2.line(image, bottomRight, bottomLeft, (0, 255, 0), 2)\n",
    "\t\t\tcv2.line(image, bottomLeft, topLeft, (0, 255, 0), 2)\n",
    "\t\t\t# compute and draw the center (x, y)-coordinates of the ArUco\n",
    "\t\t\t# marker\n",
    "\t\t\tcX = int((topLeft[0] + bottomRight[0]) / 2.0)\n",
    "\t\t\tcY = int((topLeft[1] + bottomRight[1]) / 2.0)\n",
    "\t\t\tcv2.circle(image, (cX, cY), 4, (0, 0, 255), -1)\n",
    "\t\t\t# draw the ArUco marker ID on the image\n",
    "\t\t\tcv2.putText(image, str(markerID),(topLeft[0], topLeft[1] - 10), cv2.FONT_HERSHEY_SIMPLEX,\n",
    "\t\t\t\t0.5, (0, 255, 0), 2)\n",
    "\t\t\tprint(\"[Inference] ArUco marker ID: {}\".format(markerID))\n",
    "\t\t\t# show the output image\n",
    "\treturn image"
   ]
  },
  {
   "cell_type": "code",
   "execution_count": 4,
   "id": "b3a6ce13-9fa7-4331-bd98-5e8ee4bc1191",
   "metadata": {},
   "outputs": [
    {
     "name": "stdout",
     "output_type": "stream",
     "text": [
      "Loading image...\n"
     ]
    },
    {
     "ename": "error",
     "evalue": "OpenCV(4.9.0) :-1: error: (-5:Bad argument) in function 'detectMarkers'\n> Overload resolution failed:\n>  - Can't parse 'corners'. Input argument doesn't provide sequence protocol\n>  - Can't parse 'corners'. Input argument doesn't provide sequence protocol\n",
     "output_type": "error",
     "traceback": [
      "\u001b[1;31m---------------------------------------------------------------------------\u001b[0m",
      "\u001b[1;31merror\u001b[0m                                     Traceback (most recent call last)",
      "Cell \u001b[1;32mIn[4], line 18\u001b[0m\n\u001b[0;32m     16\u001b[0m arucoParams \u001b[38;5;241m=\u001b[39m cv2\u001b[38;5;241m.\u001b[39maruco\u001b[38;5;241m.\u001b[39mDetectorParameters()\n\u001b[0;32m     17\u001b[0m det\u001b[38;5;241m=\u001b[39mcv2\u001b[38;5;241m.\u001b[39maruco\u001b[38;5;241m.\u001b[39mArucoDetector(arucoDict,arucoParams)\n\u001b[1;32m---> 18\u001b[0m corners, ids, rejected \u001b[38;5;241m=\u001b[39m \u001b[43mdet\u001b[49m\u001b[38;5;241;43m.\u001b[39;49m\u001b[43mdetectMarkers\u001b[49m\u001b[43m(\u001b[49m\u001b[43mimage\u001b[49m\u001b[43m,\u001b[49m\u001b[43m \u001b[49m\u001b[43marucoDict\u001b[49m\u001b[43m,\u001b[49m\u001b[43m \u001b[49m\u001b[43marucoParams\u001b[49m\u001b[43m)\u001b[49m\n\u001b[0;32m     20\u001b[0m detected_markers \u001b[38;5;241m=\u001b[39m aruco_display(corners, ids, rejected, image)\n\u001b[0;32m     21\u001b[0m cv2\u001b[38;5;241m.\u001b[39mimshow(\u001b[38;5;124m\"\u001b[39m\u001b[38;5;124mImage\u001b[39m\u001b[38;5;124m\"\u001b[39m, detected_markers)\n",
      "\u001b[1;31merror\u001b[0m: OpenCV(4.9.0) :-1: error: (-5:Bad argument) in function 'detectMarkers'\n> Overload resolution failed:\n>  - Can't parse 'corners'. Input argument doesn't provide sequence protocol\n>  - Can't parse 'corners'. Input argument doesn't provide sequence protocol\n"
     ]
    }
   ],
   "source": [
    "'''\n",
    "Sample Command:-\n",
    "python detect_aruco_images.py --image Images/test_image_1.png --type DICT_5X5_100\n",
    "'''\n",
    "import numpy as np\n",
    "import cv2\n",
    "\n",
    "print(\"Loading image...\")\n",
    "image = cv2.imread('test.jpg')\n",
    "h,w,_ = image.shape\n",
    "width=600\n",
    "height = int(width*(h/w))\n",
    "image = cv2.resize(image, (width, height), interpolation=cv2.INTER_CUBIC)\n",
    "\n",
    "arucoDict = cv2.aruco.getPredefinedDictionary(cv2.aruco.DICT_6X6_250)\n",
    "arucoParams = cv2.aruco.DetectorParameters()\n",
    "det=cv2.aruco.ArucoDetector(arucoDict,arucoParams)\n",
    "corners, ids, rejected = det.detectMarkers(image, arucoDict, arucoParams)\n",
    "\n",
    "detected_markers = aruco_display(corners, ids, rejected, image)\n",
    "cv2.imshow(\"Image\", detected_markers)\n",
    "\n",
    "# # Uncomment to save\n",
    "# cv2.imwrite(\"output_sample.png\",detected_markers)\n",
    "\n",
    "cv2.waitKey(0)"
   ]
  },
  {
   "cell_type": "code",
   "execution_count": 5,
   "id": "ea7822e6-b07a-4ca2-85f2-34ed1140253d",
   "metadata": {},
   "outputs": [
    {
     "name": "stdout",
     "output_type": "stream",
     "text": [
      "(array([[[ 59.,  38.],\n",
      "        [546.,  38.],\n",
      "        [546., 525.],\n",
      "        [ 59., 525.]]], dtype=float32),) [[23]]\n"
     ]
    },
    {
     "data": {
      "text/plain": [
       "-1"
      ]
     },
     "execution_count": 5,
     "metadata": {},
     "output_type": "execute_result"
    }
   ],
   "source": [
    "import cv2\n",
    "from cv2 import aruco\n",
    "import numpy as np\n",
    "\n",
    "markerIds = []\n",
    "markerIds = np.array(markerIds)\n",
    "markerCorners = []\n",
    "rejectedCandidates = []\n",
    "\n",
    "\n",
    "detectorParams =aruco.DetectorParameters()\n",
    "dictionary = aruco.getPredefinedDictionary(aruco.DICT_6X6_250)\n",
    "det=aruco.ArucoDetector(dictionary, detectorParams)\n",
    "frame=cv2.imread('test1.PNG')\n",
    "gray=cv2.cvtColor(frame, cv2.COLOR_BGR2GRAY)\n",
    "\n",
    "(corners, ids, rejected)=cv2.aruco.detectMarkers(gray, dictionary, markerCorners, markerIds, detectorParams, rejectedCandidates)\n",
    "print(corners, ids)\n",
    "aruco.drawDetectedMarkers(frame, corners, ids)\n",
    "#detected_markers = aruco_display(corners, ids, rejected, frame)\n",
    "cv2.imshow(\"Image\", frame)\n",
    "cv2.waitKey(0)"
   ]
  },
  {
   "cell_type": "code",
   "execution_count": 6,
   "id": "96f018aa-40ea-48ca-8554-c27b3083108b",
   "metadata": {
    "tags": []
   },
   "outputs": [],
   "source": [
    "import cv2\n",
    "from cv2 import aruco\n",
    "import numpy as np\n",
    "cap=cv2.VideoCapture(0)\n",
    "markerIds = []\n",
    "markerIds = np.array(markerIds)\n",
    "markerCorners = []\n",
    "rejectedCandidates = []\n",
    "\n",
    "detectorParams =aruco.DetectorParameters()\n",
    "dictionary = aruco.getPredefinedDictionary(aruco.DICT_5X5_100)#DICT_6X6_250\n",
    "det=aruco.ArucoDetector(dictionary, detectorParams)\n",
    "while True:\n",
    "    _,frame=cap.read()\n",
    "    gray=cv2.cvtColor(frame, cv2.COLOR_BGR2GRAY)\n",
    "    (corners, ids, rejected)=cv2.aruco.detectMarkers(gray, dictionary, markerCorners, markerIds, detectorParams, rejectedCandidates)\n",
    "    aruco.drawDetectedMarkers(frame, corners, ids)\n",
    "    \n",
    "    cv2.imshow(\"Image\", frame)\n",
    "    if cv2.waitKey(2) & 0xff==27:\n",
    "        break\n",
    "cap.release()\n",
    "cv2.destroyAllWindows()"
   ]
  },
  {
   "cell_type": "code",
   "execution_count": null,
   "id": "0eab573e-146b-4243-90a9-ca6ec9da2969",
   "metadata": {},
   "outputs": [],
   "source": []
  }
 ],
 "metadata": {
  "kernelspec": {
   "display_name": "Python 3 (ipykernel)",
   "language": "python",
   "name": "python3"
  },
  "language_info": {
   "codemirror_mode": {
    "name": "ipython",
    "version": 3
   },
   "file_extension": ".py",
   "mimetype": "text/x-python",
   "name": "python",
   "nbconvert_exporter": "python",
   "pygments_lexer": "ipython3",
   "version": "3.9.13"
  }
 },
 "nbformat": 4,
 "nbformat_minor": 5
}
