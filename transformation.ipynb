{
 "cells": [
  {
   "cell_type": "code",
   "execution_count": 14,
   "id": "11d7622d-22f0-4b49-a3e4-f8c3688b32db",
   "metadata": {},
   "outputs": [
    {
     "name": "stdout",
     "output_type": "stream",
     "text": [
      "Original point in new frame: [0.6913111555833793, -0.3253643530499681, 0.05721254087669402]\n",
      "Point retracted to previous frame: [0.6913111555833793, -0.3231694609954728, 0.06853274070900178]\n"
     ]
    }
   ],
   "source": [
    "import math\n",
    "\n",
    "def rotation_matrix(roll, pitch, yaw):\n",
    "  \n",
    "  roll = math.radians(roll)\n",
    "  pitch = math.radians(pitch)\n",
    "  yaw = math.radians(yaw)\n",
    "\n",
    "  cr = math.cos(roll)\n",
    "  sr = math.sin(roll)\n",
    "  cp = math.cos(pitch)\n",
    "  sp = math.sin(pitch)\n",
    "  cy = math.cos(yaw)\n",
    "  sy = math.sin(yaw)\n",
    "\n",
    "  return [[cy * cp, cy * sp * sr - sy * cr, cy * sp * cr + sy * sr],\n",
    "          [sy * cp, sy * sp * sr + cy * cr, sy * sp * cr - cy * sr],\n",
    "          [-sp, cp * sr, cp * cr]]\n",
    "\n",
    "def inverse_transform(point, translation, rotation):\n",
    "  \n",
    "  # Invert the rotation matrix\n",
    "  inv_rotation = [[row[0] for row in rotation], \n",
    "                   [row[1] for row in rotation], \n",
    "                   [row[2] for row in rotation]]  \n",
    "\n",
    "  # Subtract translation before rotation\n",
    "  translated_point = [point[0] - translation[0], \n",
    "                      point[1] - translation[1], \n",
    "                      point[2] - translation[2]]\n",
    "\n",
    "  # Apply inverse rotation\n",
    "  transformed_point = [sum(a * b for a, b in zip(row, translated_point)) \n",
    "                      for row in inv_rotation]\n",
    "\n",
    "  return transformed_point\n",
    "\n",
    "# Define the transform values\n",
    "transform_translation_x = 0\n",
    "transform_translation_y =0\n",
    "transform_translation_z = 0\n",
    "roll_x = 2\n",
    "pitch_y = 0\n",
    "yaw_z = 0\n",
    "\n",
    "# Define a sample point in the new frame\n",
    "new_point = [0.6913111555833793, -0.3253643530499681, 0.05721254087669402]\n",
    "\n",
    "# Create the rotation matrix\n",
    "rotation_matrix = rotation_matrix(roll_x, pitch_y, yaw_z)\n",
    "\n",
    "# Translate and rotate the point back to the previous frame\n",
    "previous_point = inverse_transform(new_point, [transform_translation_x, transform_translation_y, transform_translation_z], rotation_matrix)\n",
    "\n",
    "print(\"Original point in new frame:\", new_point)\n",
    "print(\"Point retracted to previous frame:\", previous_point)\n"
   ]
  },
  {
   "cell_type": "code",
   "execution_count": 6,
   "id": "65ad8a66-5923-4312-bdfa-f3d37a92d903",
   "metadata": {},
   "outputs": [
    {
     "name": "stdout",
     "output_type": "stream",
     "text": [
      "-1.487236931390072\n"
     ]
    }
   ],
   "source": [
    "print(176.8603537995131-178.34759073090316)"
   ]
  },
  {
   "cell_type": "code",
   "execution_count": null,
   "id": "a8748388-c980-4f19-accb-124ae5ee1712",
   "metadata": {},
   "outputs": [],
   "source": []
  }
 ],
 "metadata": {
  "kernelspec": {
   "display_name": "Python 3 (ipykernel)",
   "language": "python",
   "name": "python3"
  },
  "language_info": {
   "codemirror_mode": {
    "name": "ipython",
    "version": 3
   },
   "file_extension": ".py",
   "mimetype": "text/x-python",
   "name": "python",
   "nbconvert_exporter": "python",
   "pygments_lexer": "ipython3",
   "version": "3.9.13"
  }
 },
 "nbformat": 4,
 "nbformat_minor": 5
}
