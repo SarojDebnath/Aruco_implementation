{
 "cells": [
  {
   "cell_type": "markdown",
   "id": "8f3239ac-fd75-4466-ae61-ac401ce3ae22",
   "metadata": {},
   "source": [
    "**Create Markers**"
   ]
  },
  {
   "cell_type": "code",
   "execution_count": 1,
   "id": "08b72c65-49c9-465a-ba4e-f288c3591408",
   "metadata": {},
   "outputs": [
    {
     "data": {
      "text/plain": [
       "-1"
      ]
     },
     "execution_count": 1,
     "metadata": {},
     "output_type": "execute_result"
    }
   ],
   "source": [
    "import cv2\n",
    "from cv2 import aruco\n",
    "import numpy as np\n",
    "\n",
    "markerImage=np.zeros((600, 600), dtype=np.uint8)\n",
    "dictionary =aruco.getPredefinedDictionary(aruco.DICT_6X6_250)\n",
    "aruco.generateImageMarker(dictionary, 23, 600, markerImage, 1)\n",
    "cv2.imshow(\"marker23\", markerImage)\n",
    "cv2.waitKey(0)"
   ]
  },
  {
   "cell_type": "code",
   "execution_count": 2,
   "id": "e9e6dad8-dc87-4557-a54e-66a6bf3e6afc",
   "metadata": {},
   "outputs": [
    {
     "data": {
      "text/plain": [
       "True"
      ]
     },
     "execution_count": 2,
     "metadata": {},
     "output_type": "execute_result"
    }
   ],
   "source": [
    "cv2.imwrite('test.jpg',markerImage)"
   ]
  },
  {
   "cell_type": "markdown",
   "id": "0bf50bad-d849-40fd-b319-f9530703ed7f",
   "metadata": {},
   "source": [
    "**Detect Markers**"
   ]
  },
  {
   "cell_type": "code",
   "execution_count": 5,
   "id": "ea7822e6-b07a-4ca2-85f2-34ed1140253d",
   "metadata": {},
   "outputs": [
    {
     "name": "stdout",
     "output_type": "stream",
     "text": [
      "(array([[[ 59.,  38.],\n",
      "        [546.,  38.],\n",
      "        [546., 525.],\n",
      "        [ 59., 525.]]], dtype=float32),) [[23]]\n"
     ]
    },
    {
     "data": {
      "text/plain": [
       "-1"
      ]
     },
     "execution_count": 5,
     "metadata": {},
     "output_type": "execute_result"
    }
   ],
   "source": [
    "import cv2\n",
    "from cv2 import aruco\n",
    "import numpy as np\n",
    "\n",
    "markerIds = []\n",
    "markerIds = np.array(markerIds)\n",
    "markerCorners = []\n",
    "rejectedCandidates = []\n",
    "\n",
    "\n",
    "detectorParams =aruco.DetectorParameters()\n",
    "dictionary = aruco.getPredefinedDictionary(aruco.DICT_6X6_250)\n",
    "det=aruco.ArucoDetector(dictionary, detectorParams)\n",
    "frame=cv2.imread('test1.PNG')\n",
    "gray=cv2.cvtColor(frame, cv2.COLOR_BGR2GRAY)\n",
    "\n",
    "(corners, ids, rejected)=cv2.aruco.detectMarkers(gray, dictionary, markerCorners, markerIds, detectorParams, rejectedCandidates)\n",
    "print(corners, ids)\n",
    "aruco.drawDetectedMarkers(frame, corners, ids)\n",
    "#detected_markers = aruco_display(corners, ids, rejected, frame)\n",
    "cv2.imshow(\"Image\", frame)\n",
    "cv2.waitKey(0)"
   ]
  },
  {
   "cell_type": "markdown",
   "id": "3eb5e0b2-f812-46ee-b7b6-c5a2e55994f8",
   "metadata": {},
   "source": [
    "**Marker detection in Video**"
   ]
  },
  {
   "cell_type": "code",
   "execution_count": 6,
   "id": "96f018aa-40ea-48ca-8554-c27b3083108b",
   "metadata": {
    "tags": []
   },
   "outputs": [],
   "source": [
    "import cv2\n",
    "from cv2 import aruco\n",
    "import numpy as np\n",
    "cap=cv2.VideoCapture(0)\n",
    "\n",
    "markerIds = []\n",
    "markerIds = np.array(markerIds)\n",
    "markerCorners = []\n",
    "rejectedCandidates = []\n",
    "\n",
    "detectorParams =aruco.DetectorParameters()\n",
    "dictionary = aruco.getPredefinedDictionary(aruco.DICT_5X5_100)#DICT_6X6_250\n",
    "det=aruco.ArucoDetector(dictionary, detectorParams)\n",
    "while True:\n",
    "    _,frame=cap.read()\n",
    "    gray=cv2.cvtColor(frame, cv2.COLOR_BGR2GRAY)\n",
    "    (corners, ids, rejected)=cv2.aruco.detectMarkers(gray, dictionary, markerCorners, markerIds, detectorParams, rejectedCandidates)\n",
    "    aruco.drawDetectedMarkers(frame, corners, ids)\n",
    "    \n",
    "    cv2.imshow(\"Image\", frame)\n",
    "    if cv2.waitKey(2) & 0xff==27:\n",
    "        break\n",
    "cap.release()\n",
    "cv2.destroyAllWindows()"
   ]
  },
  {
   "cell_type": "markdown",
   "id": "9fe4c8e5-85ec-4335-855e-ab912eb4e027",
   "metadata": {},
   "source": [
    "**PoseEstimation**"
   ]
  },
  {
   "cell_type": "code",
   "execution_count": 1,
   "id": "2f73a10c-5028-493e-ae3b-a942b6edb97e",
   "metadata": {},
   "outputs": [],
   "source": [
    "import cv2\n",
    "from cv2 import aruco\n",
    "import numpy as np\n",
    "cap=cv2.VideoCapture(0)\n",
    "\n",
    "camera_matrix=np.matrix([[5.23059088e+04,0.00000000e+00,4.61027617e+02],[0.00000000e+00,2.81349018e+04,2.39792783e+02],[0.00000000e+00,0.00000000e+00,1.00000000e+00]])\n",
    "dist_coeffs=np.matrix([[5.41114976e+01,-1.12639322e+04,3.13476627e-02,-3.04059145e-01,-2.57512806e+01]])\n",
    "\n",
    "markerIds = []\n",
    "markerIds = np.array(markerIds)\n",
    "markerCorners = []\n",
    "rejectedCandidates = []\n",
    "\n",
    "detectorParams =aruco.DetectorParameters()\n",
    "dictionary = aruco.getPredefinedDictionary(aruco.DICT_5X5_100)#DICT_6X6_250\n",
    "det=aruco.ArucoDetector(dictionary, detectorParams)\n",
    "while True:\n",
    "    _,frame=cap.read()\n",
    "    gray=cv2.cvtColor(frame, cv2.COLOR_BGR2GRAY)\n",
    "    (corners, ids, rejected)=cv2.aruco.detectMarkers(gray, dictionary, markerCorners, markerIds, detectorParams, rejectedCandidates)\n",
    "    \n",
    "    if ids is not None:\n",
    "        aruco.drawDetectedMarkers(frame, corners, ids)\n",
    "        rvecs, tvecs, _ = aruco.estimatePoseSingleMarkers(corners, 0.05, camera_matrix, dist_coeffs)\n",
    "        #print(rvecs, tvecs)\n",
    "        for i in range(ids.size):\n",
    "            frame = cv2.drawFrameAxes(frame, camera_matrix, dist_coeffs, rvecs[i], tvecs[i], length=0.003 )\n",
    "            #aruco.drawAxis(frame, camera_matrix, dist_coeffs, rvecs[i], tvecs[i], 0.1)\n",
    "    cv2.imshow(\"Image\", frame)\n",
    "    if cv2.waitKey(2) & 0xff==27:\n",
    "        break\n",
    "cap.release()\n",
    "cv2.destroyAllWindows()\n"
   ]
  },
  {
   "cell_type": "code",
   "execution_count": null,
   "id": "7fd002f9-8e8c-416d-8611-bbe8326f31cd",
   "metadata": {},
   "outputs": [],
   "source": []
  }
 ],
 "metadata": {
  "kernelspec": {
   "display_name": "Python 3 (ipykernel)",
   "language": "python",
   "name": "python3"
  },
  "language_info": {
   "codemirror_mode": {
    "name": "ipython",
    "version": 3
   },
   "file_extension": ".py",
   "mimetype": "text/x-python",
   "name": "python",
   "nbconvert_exporter": "python",
   "pygments_lexer": "ipython3",
   "version": "3.9.13"
  }
 },
 "nbformat": 4,
 "nbformat_minor": 5
}
